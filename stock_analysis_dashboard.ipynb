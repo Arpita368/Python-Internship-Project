{
 "cells": [
  {
   "cell_type": "code",
   "execution_count": 7,
   "id": "9fbeff3a-5d0e-4024-ab78-efe3d59a035b",
   "metadata": {},
   "outputs": [],
   "source": [
    "import yfinance as yf\n",
    "import pandas as pd\n",
    "import numpy as np\n",
    "import plotly.graph_objs as go\n",
    "import plotly.express as px\n",
    "import streamlit as st"
   ]
  },
  {
   "cell_type": "code",
   "execution_count": 8,
   "id": "f63f0167-8811-4d0e-a27b-732ba84043f3",
   "metadata": {},
   "outputs": [
    {
     "name": "stderr",
     "output_type": "stream",
     "text": [
      "2025-09-07 22:47:21.928 \n",
      "  \u001b[33m\u001b[1mWarning:\u001b[0m to view this Streamlit app on a browser, run it with the following\n",
      "  command:\n",
      "\n",
      "    streamlit run C:\\ProgramData\\anaconda3\\Lib\\site-packages\\ipykernel_launcher.py [ARGUMENTS]\n"
     ]
    },
    {
     "data": {
      "text/plain": [
       "DeltaGenerator()"
      ]
     },
     "execution_count": 8,
     "metadata": {},
     "output_type": "execute_result"
    }
   ],
   "source": [
    "st.set_page_config(page_title=\"Stock Analysis Dashboard\", layout=\"wide\")\n",
    "st.title(\"📈 Stock Analysis Dashboard\")"
   ]
  },
  {
   "cell_type": "code",
   "execution_count": 9,
   "id": "42132432-66c2-4214-8b6f-100b417da725",
   "metadata": {},
   "outputs": [
    {
     "name": "stderr",
     "output_type": "stream",
     "text": [
      "2025-09-07 22:47:35.085 Session state does not function when running a script without `streamlit run`\n"
     ]
    }
   ],
   "source": [
    "st.sidebar.header(\"Stock Input Options\")\n",
    "ticker = st.sidebar.text_input(\"Enter Stock Ticker (e.g. AAPL, TSLA, INFY.BO):\", \"AAPL\")\n",
    "start_date = st.sidebar.date_input(\"Start Date\", pd.to_datetime(\"2023-01-01\"))\n",
    "end_date = st.sidebar.date_input(\"End Date\", pd.to_datetime(\"today\"))\n"
   ]
  },
  {
   "cell_type": "code",
   "execution_count": 5,
   "id": "184aed9d-022a-407e-b238-16918a8cdaf0",
   "metadata": {},
   "outputs": [],
   "source": [
    "data['SMA_20'] = data['Close'].rolling(window=20).mean() #SMA means \n",
    "data['EMA_20'] = data['Close'].ewm(span=20, adjust=False).mean()"
   ]
  },
  {
   "cell_type": "code",
   "execution_count": 6,
   "id": "fb05baf6-19c9-4097-9209-4ef2de750b8b",
   "metadata": {},
   "outputs": [],
   "source": [
    "delta = data['Close'].diff()\n",
    "gain = delta.where(delta > 0, 0)\n",
    "loss = -delta.where(delta < 0, 0)\n",
    "\n",
    "avg_gain = gain.rolling(14).mean()\n",
    "avg_loss = loss.rolling(14).mean()\n",
    "rs = avg_gain / avg_loss\n",
    "data['RSI'] = 100 - (100 / (1 + rs))"
   ]
  },
  {
   "cell_type": "code",
   "execution_count": 10,
   "id": "228e1f84-41ba-4eb8-a1ff-d1a9a3384beb",
   "metadata": {},
   "outputs": [],
   "source": [
    "if st.sidebar.button(\"Fetch Data\"):\n",
    "    data = yf.download(ticker, start=start_date, end=end_date)\n",
    "\n",
    "    if data.empty:\n",
    "        st.error(\"❌ No data found. Please check ticker symbol or date range.\")\n",
    "    else:\n",
    "        st.success(f\"✅ Fetched {len(data)} rows of data for {ticker}\")\n",
    "\n",
    "        # Indicators\n",
    "        data[\"SMA20\"] = data[\"Close\"].rolling(window=20).mean()\n",
    "        data[\"EMA20\"] = data[\"Close\"].ewm(span=20, adjust=False).mean()\n",
    "\n",
    "        delta = data[\"Close\"].diff()\n",
    "        gain = delta.where(delta > 0, 0)\n",
    "        loss = -delta.where(delta < 0, 0)\n",
    "        avg_gain = gain.rolling(14).mean()\n",
    "        avg_loss = loss.rolling(14).mean()\n",
    "        rs = avg_gain / avg_loss\n",
    "        data[\"RSI\"] = 100 - (100 / (1 + rs))\n",
    "\n",
    "        # Layout with tabs\n",
    "        tab1, tab2, tab3, tab4 = st.tabs([\"📊 Candlestick\", \"📉 SMA & EMA\", \"📈 RSI\", \"📑 Summary\"])\n",
    "\n",
    "        with tab1:\n",
    "            fig = go.Figure(data=[go.Candlestick(\n",
    "                x=data.index,\n",
    "                open=data['Open'],\n",
    "                high=data['High'],\n",
    "                low=data['Low'],\n",
    "                close=data['Close'],\n",
    "                name=\"Candlestick\"\n",
    "            )])\n",
    "            fig.update_layout(title=f\"{ticker} Candlestick Chart\", \n",
    "                              xaxis_rangeslider_visible=False, \n",
    "                              template=\"plotly_dark\")\n",
    "            st.plotly_chart(fig, use_container_width=True)\n",
    "\n",
    "        with tab2:\n",
    "            fig2 = px.line(data, x=data.index, y=['Close', 'SMA20', 'EMA20'],\n",
    "                           title=f\"{ticker} Closing Price with SMA & EMA\")\n",
    "            fig2.update_layout(template=\"plotly_dark\")\n",
    "            st.plotly_chart(fig2, use_container_width=True)\n",
    "\n",
    "        with tab3:\n",
    "            fig3 = px.line(data, x=data.index, y=\"RSI\", title=f\"{ticker} RSI (14-day)\")\n",
    "            fig3.add_hline(y=70, line_dash=\"dash\", line_color=\"red\")\n",
    "            fig3.add_hline(y=30, line_dash=\"dash\", line_color=\"green\")\n",
    "            fig3.update_layout(template=\"plotly_dark\")\n",
    "            st.plotly_chart(fig3, use_container_width=True)\n",
    "\n",
    "        with tab4:\n",
    "            st.subheader(\"📑 Performance Summary\")\n",
    "            st.metric(\"Start Price\", f\"{data['Close'].iloc[0]:.2f}\")\n",
    "            st.metric(\"End Price\", f\"{data['Close'].iloc[-1]:.2f}\")\n",
    "            st.metric(\"Return (%)\", f\"{((data['Close'].iloc[-1]/data['Close'].iloc[0])-1)*100:.2f}\")\n",
    "            st.metric(\"Latest RSI\", f\"{data['RSI'].iloc[-1]:.2f}\")\n",
    "\n",
    "        # CSV Download\n",
    "        csv = data.to_csv().encode(\"utf-8\")\n",
    "        st.download_button(\"📥 Download Data as CSV\", csv, f\"{ticker}_data.csv\", \"text/csv\")"
   ]
  },
  {
   "cell_type": "code",
   "execution_count": null,
   "id": "c4473b59-db3b-4e19-b3f6-a3fb9da482c0",
   "metadata": {},
   "outputs": [],
   "source": []
  }
 ],
 "metadata": {
  "kernelspec": {
   "display_name": "Python 3 (ipykernel)",
   "language": "python",
   "name": "python3"
  },
  "language_info": {
   "codemirror_mode": {
    "name": "ipython",
    "version": 3
   },
   "file_extension": ".py",
   "mimetype": "text/x-python",
   "name": "python",
   "nbconvert_exporter": "python",
   "pygments_lexer": "ipython3",
   "version": "3.12.7"
  }
 },
 "nbformat": 4,
 "nbformat_minor": 5
}
